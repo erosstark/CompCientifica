{
 "cells": [
  {
   "cell_type": "markdown",
   "metadata": {},
   "source": [
    "# Eros Moreira Ferreira\n",
    "16/07/2024"
   ]
  },
  {
   "cell_type": "markdown",
   "metadata": {},
   "source": [
    "# Simulação Numérica da Dinâmica do Pêndulo Esférico\n",
    "\n",
    "Reprodução do exemplo 8.10.1 do livro Scientific Computing with MATLAB and Octave 4th edition."
   ]
  },
  {
   "cell_type": "code",
   "execution_count": null,
   "metadata": {},
   "outputs": [],
   "source": [
    "import numpy as np\n",
    "from scipy.integrate import solve_ivp\n",
    "import matplotlib.pyplot as plt\n",
    "from mpl_toolkits.mplot3d import Axes3D\n",
    "\n",
    "import plotly.graph_objects as go\n",
    "from plotly.subplots import make_subplots"
   ]
  },
  {
   "cell_type": "markdown",
   "metadata": {},
   "source": [
    "## Métodos Para a Solução da EDO"
   ]
  },
  {
   "cell_type": "markdown",
   "metadata": {},
   "source": [
    "Para manter o máximo de fidelidade, usarei os mesmos códigos do livro que transcrevi para Python:\n",
    "\n",
    "*   Foward Euler\n",
    "*   Backward Euler\n",
    "*   Crank-Nicolson\n",
    "\n",
    "Usarei também o `solve_ivp` da biblioteca `scipy` para a solução com o RK23 = ODE23 e RK45 = ODE45."
   ]
  },
  {
   "cell_type": "markdown",
   "metadata": {},
   "source": [
    "### Foward Euler"
   ]
  },
  {
   "cell_type": "code",
   "execution_count": null,
   "metadata": {},
   "outputs": [],
   "source": [
    "# Foward Euler\n",
    "def feuler(odefun, tspan, y, Nh):\n",
    "    h = (tspan[1] - tspan[0]) / Nh  # tamanho do time step\n",
    "    tt = np.linspace(tspan[0], tspan[1], Nh+1) # Time step\n",
    "    \n",
    "    # Redimensionando y para duas dimensões.\n",
    "    y = y.reshape((1, -1)) # Isso possibilita a função lidar com um sistema de equações.\n",
    "    \n",
    "    for t in tt[1:]:\n",
    "        y_new = y[-1] + h * odefun(t, y[-1])\n",
    "        \n",
    "        y = np.vstack((y, y_new))\n",
    "        \n",
    "    return tt, y"
   ]
  },
  {
   "cell_type": "markdown",
   "metadata": {},
   "source": [
    "### Backward Euler"
   ]
  },
  {
   "cell_type": "code",
   "execution_count": null,
   "metadata": {},
   "outputs": [],
   "source": [
    "from scipy.optimize import fsolve\n",
    "\n",
    "# Backward Euler\n",
    "def beuler(odefun, tspan, y, Nh):\n",
    "    h = (tspan[1] - tspan[0]) / Nh # tamanho time step\n",
    "    tt = np.linspace(tspan[0], tspan[1], Nh+1) # time step\n",
    "    \n",
    "    y = y.reshape((1, -1)) \n",
    "    \n",
    "    for t in tt[1:]:\n",
    "        # Define o sistema de eq\n",
    "        f = lambda w: w - y[-1] - h * odefun(t, w)\n",
    "        \n",
    "        # Resolve o sistema de eq\n",
    "        w = fsolve(f, y[-1])\n",
    "        \n",
    "        y = np.vstack((y, w))\n",
    "    \n",
    "    return tt, y"
   ]
  },
  {
   "cell_type": "markdown",
   "metadata": {},
   "source": [
    "### Crank-Nicolson"
   ]
  },
  {
   "cell_type": "code",
   "execution_count": null,
   "metadata": {},
   "outputs": [],
   "source": [
    "# Crank-Nicolson \n",
    "# Nessa eu pedi uma ajudinha da IA pra entender o código - horroroso - em MATLAB.\n",
    "\n",
    "def cranknic(odefun, tspan, y0, Nh):\n",
    "    tt = np.linspace(tspan[0], tspan[1], Nh+1)\n",
    "    u = np.array(y0).reshape(1, -1)\n",
    "    \n",
    "    glob_h = (tspan[1] - tspan[0]) / Nh\n",
    "    glob_y = np.array(y0)\n",
    "    glob_odefun = odefun\n",
    "    \n",
    "    for glob_t in tt[1:]:\n",
    "        def cranknicfun(w):\n",
    "            return w - glob_y - 0.5 * glob_h * (glob_odefun(glob_t, w) + glob_odefun(glob_t - glob_h, glob_y))\n",
    "        \n",
    "        w = fsolve(cranknicfun, glob_y)\n",
    "        u = np.vstack((u, w))\n",
    "        glob_y = w\n",
    "    \n",
    "    t = np.array(tt).reshape(-1, 1)\n",
    "    \n",
    "    return t, u"
   ]
  },
  {
   "cell_type": "markdown",
   "metadata": {},
   "source": [
    "## Fvinc\n",
    "\n",
    "A função que representa o sistema de equações."
   ]
  },
  {
   "cell_type": "code",
   "execution_count": null,
   "metadata": {},
   "outputs": [],
   "source": [
    "def fvinc(t, y):\n",
    "    n = np.size(y)\n",
    "    f = np.zeros(n)\n",
    "    \n",
    "    phix = 2*y[0]\n",
    "    phiy = 2*y[1]\n",
    "    phiz = 2*y[2]\n",
    "    \n",
    "    H = 2*np.eye(3)\n",
    "    mass = 1\n",
    "    \n",
    "    F1 = 0\n",
    "    F2 = 0\n",
    "    F3 = -mass*9.8\n",
    "    \n",
    "    xp = np.array(y[3:6])\n",
    "    \n",
    "    \n",
    "    F = np.array([F1, F2, F3])\n",
    "    G = np.array([phix, phiy, phiz])\n",
    "    \n",
    "    lambda_val = (mass * xp.T @ H @ xp + F.T @ G) / (G.T @ G)\n",
    "    \n",
    "    f[0:3] = y[3:6]\n",
    "    \n",
    "    for k in range(3):\n",
    "        f[k+3] = (F[k] - lambda_val * G[k]) / mass\n",
    "    return f\n"
   ]
  },
  {
   "cell_type": "markdown",
   "metadata": {},
   "source": [
    "## Plot Func\n",
    "\n",
    "Como todos os gráficos são parecidos, achei melhor criar uma função apenas para isso."
   ]
  },
  {
   "cell_type": "code",
   "execution_count": null,
   "metadata": {},
   "outputs": [],
   "source": [
    "def PlotSol(x1,y1,z1,x2,y2,z2,name1, name2,title, y0 = [0,0,0]):\n",
    "    \n",
    "    fig = make_subplots(\n",
    "        rows=1, cols=2,\n",
    "        specs=[[{'type': 'scatter3d'}, {'type': 'scatter3d'}]])\n",
    "\n",
    "    #plot1\n",
    "    fig.add_trace(go.Scatter3d(\n",
    "            x=x1,\n",
    "            y=y1,\n",
    "            z=z1,\n",
    "            mode='lines',\n",
    "            name = str(name1)\n",
    "            ),\n",
    "        row=1, col=1\n",
    "    )\n",
    "\n",
    "    #plot2\n",
    "    fig.add_trace(go.Scatter3d(\n",
    "            x=x2,\n",
    "            y=y2,\n",
    "            z=z2,\n",
    "            mode='lines',\n",
    "            name = str(name2)\n",
    "            ),\n",
    "        row=1, col=2\n",
    "    )\n",
    "\n",
    "    # Adiciona o ponto inicial.\n",
    "    fig.add_trace(go.Scatter3d(\n",
    "            x = [y0[0]],\n",
    "            y = [y0[1]],\n",
    "            z = [y0[2]],\n",
    "            mode = 'markers',\n",
    "            name = 'y0',\n",
    "            marker = dict(size=3, color='red')\n",
    "            ),\n",
    "        row = 'all', col = 'all'\n",
    "    )\n",
    "\n",
    "    fig.update_layout(height=800, width=1500, title_text= str(title))\n",
    "    return fig"
   ]
  },
  {
   "cell_type": "markdown",
   "metadata": {},
   "source": [
    "## Resultados"
   ]
  },
  {
   "cell_type": "code",
   "execution_count": null,
   "metadata": {},
   "outputs": [],
   "source": [
    "# Condições iniciais\n",
    "y0 = np.array([0, 1, 0, .8, 0, 1.2])\n",
    "tspan = [0, 25]\n"
   ]
  },
  {
   "cell_type": "markdown",
   "metadata": {},
   "source": [
    "### Foward Euler"
   ]
  },
  {
   "cell_type": "code",
   "execution_count": null,
   "metadata": {},
   "outputs": [],
   "source": [
    "# Soluções com forward Euler\n",
    "t_FE, sol_FE1 = feuler(fvinc, tspan, y0, 10000)\n",
    "t_FE, sol_FE2 = feuler(fvinc, tspan, y0, 100000) # demorou consideravelmente mais.\n"
   ]
  },
  {
   "cell_type": "code",
   "execution_count": null,
   "metadata": {},
   "outputs": [],
   "source": [
    "\n",
    "# Plota as soluções Foward Euler\n",
    "plota = PlotSol(\n",
    "        sol_FE1[ :, 0],\n",
    "        sol_FE1[ :, 1],\n",
    "        sol_FE1[ :, 2],\n",
    "        sol_FE2[ :, 0],\n",
    "        sol_FE2[ :, 1],\n",
    "        sol_FE2[ :, 2],\n",
    "        name1 = 'h = 0.0025',\n",
    "        name2 = 'h = 0.00025',\n",
    "        title = 'Trajetória de um Péndulo Esférico com Foward Euler'\n",
    ")\n",
    "plota"
   ]
  },
  {
   "cell_type": "markdown",
   "metadata": {},
   "source": [
    "Como mencionado no livro, podemos ter uma ideia da acurácia de cada método usado o fato de que a solução deve satisfazer\n",
    "\n",
    "\\begin{equation}\n",
    "    r(y) = y_1^2 + y_2^2 + y_3^2 -1 = 0\n",
    "\\end{equation}\n",
    "\n",
    "sendo que $y_1, y_2$ e $y_3$ é a posição $x,y,z$ no instante de tempo $t_n$."
   ]
  },
  {
   "cell_type": "code",
   "execution_count": null,
   "metadata": {},
   "outputs": [],
   "source": [
    "r1 = abs(sol_FE2[-1,0]**2 + sol_FE2[-1,1]**2 + sol_FE2[-1,2]**2 -1)\n",
    "r2 = abs(sol_FE1[-1,0]**2 + sol_FE1[-1,1]**2 + sol_FE1[-1,2]**2 -1)\n",
    "print(f\"O residuo r para o Forward Euler com h = 0.00025 é {r1:.4f} e com h = 0.0025 é {r2:.4f}\")"
   ]
  },
  {
   "cell_type": "markdown",
   "metadata": {},
   "source": [
    "Os resultados são idênticos ao do livro.\n",
    "\n",
    "> By using 10.000 discretization nodes we find $r = 1.0578$, while\n",
    "with 100.000 nodes we have $r = 0.1111$, in accordance with the theory\n",
    "requiring the explicit Euler method to converge with order 1."
   ]
  },
  {
   "cell_type": "markdown",
   "metadata": {},
   "source": [
    "### Backward Euler e Crank Nicolson"
   ]
  },
  {
   "cell_type": "code",
   "execution_count": null,
   "metadata": {},
   "outputs": [],
   "source": [
    "# Solução com o backward Euler.\n",
    "t, Sol_beuler = beuler(fvinc, tspan, y0, 20000)"
   ]
  },
  {
   "cell_type": "code",
   "execution_count": null,
   "metadata": {},
   "outputs": [],
   "source": [
    "# Solução com Cranl-Nicolson\n",
    "t, sol_CN = cranknic(fvinc, tspan, y0, 1000)"
   ]
  },
  {
   "cell_type": "code",
   "execution_count": null,
   "metadata": {},
   "outputs": [],
   "source": [
    "# Plota os resultados com RK23 e RK45\n",
    "\n",
    "Plot = PlotSol(\n",
    "        Sol_beuler[ :, 0],\n",
    "        Sol_beuler[ :, 1],\n",
    "        Sol_beuler[ :, 2],\n",
    "        sol_CN[ :, 0],\n",
    "        sol_CN[ :, 1],\n",
    "        sol_CN[ :, 2],\n",
    "        name1 = 'Backward Euler',\n",
    "        name2 = 'Crank-Nicolson',\n",
    "        title = 'Trajetória de um Péndulo Esférico com Backward Euler e Crank-Nicolson'\n",
    ")\n",
    "\n",
    "Plot"
   ]
  },
  {
   "cell_type": "code",
   "execution_count": null,
   "metadata": {},
   "outputs": [],
   "source": [
    "rbeuler = abs(Sol_beuler[-1,0]**2 + Sol_beuler[-1,1]**2 + Sol_beuler[-1,2]**2 -1)\n",
    "rCN = abs(sol_CN[-1,0]**2 + sol_CN[-1,1]**2 + sol_CN[-1,2]**2 -1)\n",
    "print(f\"O residuo r para o Backward Euler é {rbeuler:.4f} e o residuo r para o Crank-Nicolson é {rCN:.4f}\")"
   ]
  },
  {
   "cell_type": "markdown",
   "metadata": {},
   "source": [
    "Aqui tambem temos um resultado parecido.\n",
    "\n",
    "> By using the implicit Euler method with 20000 steps we obtain the\n",
    " solution reported in Figure 8.19, while the Crank-Nicolson method (of\n",
    " order 2) with only 1000 steps provides the solution reported in the same\n",
    " ﬁgure on the right, which is undoubtedly more accurate. Indeed, we ﬁnd\n",
    " $r = 0.5816$ for the implicit Euler method and $r = 0.0928$ for the Crank-\n",
    " Nicolson method."
   ]
  },
  {
   "cell_type": "markdown",
   "metadata": {},
   "source": [
    "### RK23 e RK45"
   ]
  },
  {
   "cell_type": "code",
   "execution_count": null,
   "metadata": {},
   "outputs": [],
   "source": [
    "t = np.linspace(tspan[0], tspan[1], 1000000)\n",
    "\n",
    "# Solução com RK23\n",
    "sol_RK23 = solve_ivp(fvinc, [tspan[0], tspan[-1]], y0, t_eval=t, method=\"RK23\")\n",
    "\n",
    "\n",
    "# Solução com RK45\n",
    "sol_RK45 = solve_ivp(fvinc, [tspan[0], tspan[-1]], y0, t_eval=t)"
   ]
  },
  {
   "cell_type": "code",
   "execution_count": null,
   "metadata": {},
   "outputs": [],
   "source": [
    "# PLota os resultados com RK23 e RK45\n",
    "\n",
    "Plot = PlotSol(\n",
    "        sol_RK23.y[0, :],\n",
    "        sol_RK23.y[1, :],\n",
    "        sol_RK23.y[2, :],\n",
    "        sol_RK45.y[0, :],\n",
    "        sol_RK45.y[1, :],\n",
    "        sol_RK45.y[2, :],\n",
    "        name1 = 'RK23',\n",
    "        name2 = 'RK45',\n",
    "        title = 'Trajetória de um Péndulo Esférico com RK23 e RK45')\n",
    "\n",
    "Plot"
   ]
  },
  {
   "cell_type": "code",
   "execution_count": null,
   "metadata": {},
   "outputs": [],
   "source": [
    "r_RK23 = abs(sol_RK23.y[0,-1]**2 + sol_RK23.y[1,-1]**2 + sol_RK23.y[2,-1]**2 -1)\n",
    "r_RK45 = abs(sol_RK45.y[0,-1]**2 + sol_RK45.y[1,-1]**2 + sol_RK45.y[2,-1]**2 -1)\n",
    "print(f\"O residuo r para o RK23 é {r_RK23:.4f} e o residuo r para o RK45 é {r_RK45:.4f}\")"
   ]
  },
  {
   "cell_type": "markdown",
   "metadata": {},
   "source": [
    "Já aqui têmos resultados diferentes do livro.\n",
    "\n",
    "> The residual $r$ is equal to $0.0238$ for ode23\n",
    " and $ 3.2563 $ for ode45"
   ]
  },
  {
   "cell_type": "markdown",
   "metadata": {},
   "source": [
    "### RK23 e RK45 Com rtol = 1e-4"
   ]
  },
  {
   "cell_type": "code",
   "execution_count": null,
   "metadata": {},
   "outputs": [],
   "source": [
    "# Solução com RK23\n",
    "sol_RK23_rtol = solve_ivp(fvinc, [tspan[0], tspan[-1]], y0, t_eval=t, method=\"RK23\", rtol = 1e-4)\n",
    "\n",
    "# Solução com RK45\n",
    "sol_RK45_rtol = solve_ivp(fvinc, [tspan[0], tspan[-1]], y0, t_eval=t, rtol = 1e-4)"
   ]
  },
  {
   "cell_type": "code",
   "execution_count": null,
   "metadata": {},
   "outputs": [],
   "source": [
    "# Plota os resultados para RK23 e RK45 com rtol = 1e-4\n",
    "\n",
    "Plot = PlotSol(\n",
    "        sol_RK23_rtol.y[0, :],\n",
    "        sol_RK23_rtol.y[1, :],\n",
    "        sol_RK23_rtol.y[2, :],\n",
    "        sol_RK45_rtol.y[0, :],\n",
    "        sol_RK45_rtol.y[1, :],\n",
    "        sol_RK45_rtol.y[2, :],\n",
    "        name1 = 'RK23',\n",
    "        name2 = 'RK45',\n",
    "        title = 'Trajetória de um Péndulo Esférico com RK23 e RK45 com rtol = 1e-4')\n",
    "\n",
    "Plot"
   ]
  },
  {
   "cell_type": "markdown",
   "metadata": {},
   "source": [
    "O plot do RK45 ficou mais parecido com o do livro ajustando rtol = 1e-5"
   ]
  },
  {
   "cell_type": "code",
   "execution_count": null,
   "metadata": {},
   "outputs": [],
   "source": [
    "r_RK23_rtol = abs(sol_RK23_rtol.y[0,-1]**2 + sol_RK23_rtol.y[1,-1]**2 + sol_RK23_rtol.y[2,-1]**2 -1)\n",
    "r_RK45_rtol = abs(sol_RK45_rtol.y[0,-1]**2 + sol_RK45_rtol.y[1,-1]**2 + sol_RK45_rtol.y[2,-1]**2 -1)\n",
    "print(f\"O residuo r para o RK23 é {r_RK23_rtol:.4f} e o residuo r para o RK45 é {r_RK45_rtol:.4f}\")"
   ]
  },
  {
   "cell_type": "markdown",
   "metadata": {},
   "source": [
    "Aqui também temos resultados bem diferntes pro RK45.\n",
    "\n",
    ">Precisely ode23 ... provides a residual $r = 0.003$,\n",
    "while ode45 ... provides a residual $r = 0.060.$\n",
    "\n",
    "Tanto nesse quanto no anterior, $r_{(RK45)} \\approx 5r_{(livro)}$"
   ]
  }
 ],
 "metadata": {
  "kernelspec": {
   "display_name": "Python 3",
   "language": "python",
   "name": "python3"
  },
  "language_info": {
   "codemirror_mode": {
    "name": "ipython",
    "version": 3
   },
   "file_extension": ".py",
   "mimetype": "text/x-python",
   "name": "python",
   "nbconvert_exporter": "python",
   "pygments_lexer": "ipython3",
   "version": "3.12.4"
  }
 },
 "nbformat": 4,
 "nbformat_minor": 2
}
