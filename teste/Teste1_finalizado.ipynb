{
  "cells": [
    {
      "cell_type": "markdown",
      "id": "819366b2-efde-456b-b632-40ee503c136c",
      "metadata": {
        "id": "819366b2-efde-456b-b632-40ee503c136c"
      },
      "source": [
        "# Computação Científica 1 - 2023.2 - Prof. Adriano Côrtes"
      ]
    },
    {
      "cell_type": "markdown",
      "id": "4e0a8c02",
      "metadata": {},
      "source": [
        "# Aluno Eros Moreira Ferreira"
      ]
    },
    {
      "cell_type": "markdown",
      "id": "129ed291-1fac-437e-8e66-e1f89594c8bc",
      "metadata": {
        "id": "129ed291-1fac-437e-8e66-e1f89594c8bc",
        "tags": []
      },
      "source": [
        "## Teste 1 Finalizado"
      ]
    },
    {
      "cell_type": "markdown",
      "id": "8ad0a842-4b99-46f0-8cf1-0d69c4ccf2fb",
      "metadata": {
        "id": "8ad0a842-4b99-46f0-8cf1-0d69c4ccf2fb"
      },
      "source": [
        "***"
      ]
    },
    {
      "cell_type": "markdown",
      "id": "572bac71-067a-412d-98e4-c9ae6d06429b",
      "metadata": {
        "id": "572bac71-067a-412d-98e4-c9ae6d06429b"
      },
      "source": [
        "### Questão 1\n",
        "Explique o comportamento (surpreendente?) do código abaixo"
      ]
    },
    {
      "cell_type": "code",
      "execution_count": 32,
      "id": "9cef38e8-60ba-4d7c-a13a-cc354e0848a6",
      "metadata": {
        "colab": {
          "base_uri": "https://localhost:8080/"
        },
        "id": "9cef38e8-60ba-4d7c-a13a-cc354e0848a6",
        "outputId": "d7ee1eb6-11ac-48cc-8bf8-21b0ec05400f",
        "tags": []
      },
      "outputs": [
        {
          "data": {
            "text/plain": [
              "16.88210319127114"
            ]
          },
          "execution_count": 32,
          "metadata": {},
          "output_type": "execute_result"
        }
      ],
      "source": [
        "d = 8\n",
        "e = 2\n",
        "from math import *\n",
        "sqrt(d ** e)"
      ]
    },
    {
      "cell_type": "markdown",
      "id": "COt5YAcbo_BP",
      "metadata": {
        "id": "COt5YAcbo_BP"
      },
      "source": [
        "#### Reposta"
      ]
    },
    {
      "cell_type": "markdown",
      "id": "rjyLLj8ZpP4B",
      "metadata": {
        "id": "rjyLLj8ZpP4B"
      },
      "source": [
        "Esse resultado inesperado ocorreu por dois motivos:\n",
        "\n",
        "\n",
        "\n",
        "1.   Foi utilizado `import *`\n",
        "2.   O módulo foi importado após a atribuição `e = 2`\n",
        "\n",
        "Na linha 3 a variável `e` deixa de valer 2 e passar a ter o valor do número de euler. Esse é um bom exemplo do porque não é recomendado `import *`.\n",
        "\n",
        "Abaixo está o código escrito para exibir o resultado esperado.\n",
        "\n"
      ]
    },
    {
      "cell_type": "code",
      "execution_count": 33,
      "id": "o0bfayHSpOQ4",
      "metadata": {
        "colab": {
          "base_uri": "https://localhost:8080/"
        },
        "id": "o0bfayHSpOQ4",
        "outputId": "9bfb57f2-8f75-4f65-9095-1c4df92faba1"
      },
      "outputs": [
        {
          "data": {
            "text/plain": [
              "8.0"
            ]
          },
          "execution_count": 33,
          "metadata": {},
          "output_type": "execute_result"
        }
      ],
      "source": [
        "\n",
        "from math import sqrt # Desse modo seria mais adequado.\n",
        "d = 8\n",
        "e = 2\n",
        "sqrt(d**e)"
      ]
    },
    {
      "cell_type": "markdown",
      "id": "p0H_72nQrU_I",
      "metadata": {
        "id": "p0H_72nQrU_I"
      },
      "source": [
        "O código também exibiria o resultado esperado se o `import *` fosse feito antes da atribuição e = 2.\n",
        "\n",
        "Entretanto, não será possível utilizar o número de euler após a atribuição `e = 2`."
      ]
    },
    {
      "cell_type": "code",
      "execution_count": 34,
      "id": "3JRI7nPUq-c7",
      "metadata": {
        "colab": {
          "base_uri": "https://localhost:8080/"
        },
        "id": "3JRI7nPUq-c7",
        "outputId": "8d5d798f-3d32-4240-ed08-f17496586230"
      },
      "outputs": [
        {
          "data": {
            "text/plain": [
              "8.0"
            ]
          },
          "execution_count": 34,
          "metadata": {},
          "output_type": "execute_result"
        }
      ],
      "source": [
        "from math import *\n",
        "\n",
        "d = 8\n",
        "e = 2\n",
        "sqrt(d ** e)"
      ]
    },
    {
      "cell_type": "markdown",
      "id": "920b7bef-6265-4fb6-a12d-c54c2158de43",
      "metadata": {
        "id": "920b7bef-6265-4fb6-a12d-c54c2158de43"
      },
      "source": [
        "***"
      ]
    },
    {
      "cell_type": "markdown",
      "id": "1bf62f1f-2283-448d-929f-3d8cae6769e1",
      "metadata": {
        "id": "1bf62f1f-2283-448d-929f-3d8cae6769e1",
        "tags": []
      },
      "source": [
        "### Questão 2\n",
        "Como sabemos números reais são representados no computador por números de precisão finita, os números em ponto-flutuante. No Python, assim como na maioria das outras linguagens de programação predomina o padrão IEEE-754, em particular a representação em precisão dupla (*double precision*) é o default em Python. Podemos investigar essas informações por meio do módulo `sys`. Essas informações estão atributo `sys.float_info`:"
      ]
    },
    {
      "cell_type": "code",
      "execution_count": 35,
      "id": "0b698456-58bf-47fe-8ca0-ff5749d050e7",
      "metadata": {
        "colab": {
          "base_uri": "https://localhost:8080/"
        },
        "id": "0b698456-58bf-47fe-8ca0-ff5749d050e7",
        "outputId": "31a1e4f7-468d-4cb4-ebba-390656f82592",
        "tags": []
      },
      "outputs": [
        {
          "name": "stdout",
          "output_type": "stream",
          "text": [
            "sys.float_info(max=1.7976931348623157e+308, max_exp=1024, max_10_exp=308, min=2.2250738585072014e-308, min_exp=-1021, min_10_exp=-307, dig=15, mant_dig=53, epsilon=2.220446049250313e-16, radix=2, rounds=1)\n",
            "O menor número representável em ponto-flutuante de precisão dupla é 2.2250738585072014e-308\n",
            "O maior número representável em ponto-flutuante de precisão dupla é 1.7976931348623157e+308\n"
          ]
        }
      ],
      "source": [
        "import sys\n",
        "print(sys.float_info)\n",
        "print('O menor número representável em ponto-flutuante de precisão dupla é {}'.format(sys.float_info.min))\n",
        "print('O maior número representável em ponto-flutuante de precisão dupla é {}'.format(sys.float_info.max))"
      ]
    },
    {
      "cell_type": "markdown",
      "id": "4c17553a-12f8-48d5-a344-4e923c86b0e4",
      "metadata": {
        "id": "4c17553a-12f8-48d5-a344-4e923c86b0e4"
      },
      "source": [
        "1. O que acontece se você tentar avaliar a expressão $e^{1000}$ que gera um número maior que o maior número representável?\n",
        "2. Como você calcularia a hipotenusa $c$ de um triângulo retângulo cujos catetos são $a = 1.5 \\times 10^{200}$ e $b = 3.5 \\times 10^{201}$? **Note que calcular $a^2$ e $b^2$ não é uma opção, como no item anterior**. Verifique seu resultado usando a função `math.hypot`"
      ]
    },
    {
      "cell_type": "markdown",
      "id": "c49e68b0",
      "metadata": {},
      "source": [
        "#### Resposta"
      ]
    },
    {
      "cell_type": "code",
      "execution_count": 36,
      "id": "c8187b6f",
      "metadata": {},
      "outputs": [
        {
          "ename": "OverflowError",
          "evalue": "(34, 'Numerical result out of range')",
          "output_type": "error",
          "traceback": [
            "\u001b[0;31m---------------------------------------------------------------------------\u001b[0m",
            "\u001b[0;31mOverflowError\u001b[0m                             Traceback (most recent call last)",
            "\u001b[0;32m/tmp/ipykernel_23316/3854316059.py\u001b[0m in \u001b[0;36m<module>\u001b[0;34m\u001b[0m\n\u001b[1;32m      1\u001b[0m \u001b[0;32mfrom\u001b[0m \u001b[0mmath\u001b[0m \u001b[0;32mimport\u001b[0m \u001b[0me\u001b[0m\u001b[0;34m\u001b[0m\u001b[0;34m\u001b[0m\u001b[0m\n\u001b[0;32m----> 2\u001b[0;31m \u001b[0me\u001b[0m\u001b[0;34m**\u001b[0m\u001b[0;36m1000\u001b[0m\u001b[0;34m\u001b[0m\u001b[0;34m\u001b[0m\u001b[0m\n\u001b[0m",
            "\u001b[0;31mOverflowError\u001b[0m: (34, 'Numerical result out of range')"
          ]
        }
      ],
      "source": [
        "from math import e\n",
        "e**1000"
      ]
    },
    {
      "cell_type": "markdown",
      "id": "a4d02b7c",
      "metadata": {},
      "source": [
        "O python exibi um erro. Esse erro indica que foi feito uma tentativa de converter para float mas o número era grande demais e não é possível representar. \n",
        "\n",
        "Existem algumas maneiras de ligar com números floats muito grandes, como bibliotecas `mpmath` e `decimal`"
      ]
    },
    {
      "cell_type": "markdown",
      "id": "91eaca77",
      "metadata": {},
      "source": [
        "O problema dos catetos muito grandes é facilmente contornado utilizando alguma biblioteca que lide com números grandes, como a Decimal que é justamente como eu faria (assumindo que não existisse o hypot).\n",
        "\n",
        "Etretando, é possível utilizar truques para contornar essa limitação.\n",
        "\n",
        "Vamos utilizar a diferença de quadrados para quebrar as contas em pequenas partes, desse modo o número não fica grande demais antes de tirar a raiz. \n",
        "\n",
        "$$\n",
        "\\sqrt{(a^2 - b^2)} = \\sqrt{(a + b)}\\sqrt{(a - b)}\n",
        "\n",
        "\n",
        "\n",
        "$$\n",
        "\n",
        "Segundo o maravilhoso teorema de Pitágoras, a hipotenusa é $h = \\sqrt{(a^2 + b^2)}$, mas obviamente $a^2 + b^2$ não é uma diferença de quadrados. Nesse caso, os números complexos podem dar uma boa descomplicada, pois $i = \\sqrt{-1}$ e botando essa brincadeira ao quadrado $i^2 = \\sqrt{-1}^2 = -1$.\n",
        "\n",
        "Agora conseguimos fazer aparecer uma diferença de quadrados em $(a^2 + b^2)$ botando uma um $i$ juntinho com $a$ ou $b$ (isso me parece uma solução inteligente).\n",
        "\n",
        "$$h = \\sqrt{(a^2 - (bi)^2)} = \\sqrt{(a-bi)(a+bi)} = \\sqrt{(a-bi)}\\sqrt{(a+bi)}$$"
      ]
    },
    {
      "cell_type": "code",
      "execution_count": 37,
      "id": "jD3W62Eiy6Lo",
      "metadata": {
        "colab": {
          "base_uri": "https://localhost:8080/",
          "height": 176
        },
        "id": "jD3W62Eiy6Lo",
        "outputId": "db40a037-ed45-45ce-feb0-31f9d4c0c195"
      },
      "outputs": [
        {
          "name": "stdout",
          "output_type": "stream",
          "text": [
            "Usando a manipulação algebrica: h = 3.5032128111206724e+201\n",
            "Usando hypot da biblioteca math h = 3.503212811120672e+201\n"
          ]
        }
      ],
      "source": [
        "from math import hypot\n",
        "from cmath import sqrt\n",
        "a = 1.5e200\n",
        "b = 3.5e201\n",
        "h1 = sqrt((a+b*1j)) * sqrt(a-b*1j)\n",
        "h2 = hypot(a,b)\n",
        "print(f\"Usando a manipulação algebrica: h = {h1.real}\")\n",
        "print(f\"Usando hypot da biblioteca math h = {h2}\")\n"
      ]
    },
    {
      "cell_type": "markdown",
      "id": "a4b05e6b",
      "metadata": {},
      "source": [
        "Mas caso não goste de números complexos, segue outra solução.\n",
        "\n",
        "Sendo k uma constante: \n",
        "\n",
        "$$ h = \\sqrt{a² + b²} = k\\sqrt{(\\frac{a}{k})² + (\\frac{b}{k})²}$$"
      ]
    },
    {
      "cell_type": "code",
      "execution_count": 38,
      "id": "fbbfaef5",
      "metadata": {},
      "outputs": [
        {
          "name": "stdout",
          "output_type": "stream",
          "text": [
            "manipulação algebrica h = 3.503212811120672e+201\n",
            "hypot(a,b) = 3.503212811120672e+201\n"
          ]
        }
      ],
      "source": [
        "from math import sqrt, hypot\n",
        "\n",
        "a = abs(a)\n",
        "b = abs(b)\n",
        "if(a>1e200 or b > 1e200):\n",
        "    h = sqrt((a*1e-200)**2 + (b*1e-200)**2)*1e200\n",
        "elif (a<1e-200 or b < 1e-200):\n",
        "    h = sqrt((a*1e+200)**2 + (b*1e+200)**2)*1e200\n",
        "else:\n",
        "    h = sqrt((a)**2 + (b)**2)\n",
        "    \n",
        "    \n",
        "print(f\"manipulação algebrica {h = }\")\n",
        "print(f\"{hypot(a,b) = }\")"
      ]
    },
    {
      "cell_type": "markdown",
      "id": "2de18d9d-86f3-4485-8f41-9a8793e7624a",
      "metadata": {
        "id": "2de18d9d-86f3-4485-8f41-9a8793e7624a",
        "tags": []
      },
      "source": [
        "### Questão 3\n",
        "Usando uma tupla de strings com o nome dos dígitos de $0$ a $9$, crie um trecho de código em Python que imprima até a sétima casas decimais de $\\pi$ na forma de texto, como:\n",
        "\n",
        "`três ponto um quatro um cinco nove dois seis`"
      ]
    },
    {
      "cell_type": "markdown",
      "id": "b416dddc",
      "metadata": {},
      "source": [
        "#### Resposta"
      ]
    },
    {
      "cell_type": "markdown",
      "id": "c24d5254",
      "metadata": {},
      "source": [
        "Não sei se é a melhor forma de se fazer isso ou a mais elegante, mas só consegui pensar nisso."
      ]
    },
    {
      "cell_type": "code",
      "execution_count": 39,
      "id": "5caa2f97",
      "metadata": {},
      "outputs": [
        {
          "name": "stdout",
          "output_type": "stream",
          "text": [
            "três ponto um quatro um cinco nove dois seis\n"
          ]
        }
      ],
      "source": [
        "\n",
        "\n",
        "def number_to_text (number):\n",
        "    \"\"\"Recebe um número e retorna ele em texto\n",
        "    Ex number = 32.1\n",
        "    Retorna: três dois ponto um\n",
        "\n",
        "    Args:\n",
        "        number (int or float): número para ser convertido\n",
        "\n",
        "    Returns:\n",
        "        str: o número em texto\n",
        "    \"\"\"\n",
        "    \n",
        "    text_numbers: str = \"zero\", \"um\", \"dois\", \"três\" , \"quatro\", \"cinco\",\\\n",
        "        \"seis\", \"sete\", \"oito\" ,\"nove\"\n",
        "    algarisms = []\n",
        "    algarisms [:] = str(number) # Aqui os algarismos são separados em uma lista.\n",
        "    texto = []                  # Lista que receberá os textos.\n",
        "    for one_algarism in algarisms:\n",
        "        for i in range(0,10):\n",
        "            if one_algarism == str(i):\n",
        "                texto.append(text_numbers[i])\n",
        "        if  one_algarism == \".\":\n",
        "            texto.append(\"ponto\")\n",
        "    return \" \".join(texto)\n",
        "\n",
        "pi_texto = number_to_text(3.1415926)\n",
        "\n",
        "print(pi_texto)"
      ]
    },
    {
      "cell_type": "markdown",
      "id": "88a9dbba-7afd-4822-b1cd-eae1f65f42c1",
      "metadata": {
        "id": "88a9dbba-7afd-4822-b1cd-eae1f65f42c1"
      },
      "source": [
        "***"
      ]
    },
    {
      "cell_type": "markdown",
      "id": "3236585d-097a-4ad4-a732-bab19db5610d",
      "metadata": {
        "id": "3236585d-097a-4ad4-a732-bab19db5610d"
      },
      "source": [
        "### Questão 4\n",
        "Escreva um trecho que código Python que imprima de maneira formatada (bonitinha) as oito primeiro linhas do triângulo de Pascal."
      ]
    },
    {
      "cell_type": "markdown",
      "id": "0dbac26e",
      "metadata": {},
      "source": [
        "#### Resposta"
      ]
    },
    {
      "cell_type": "code",
      "execution_count": 46,
      "id": "8b013f5b",
      "metadata": {},
      "outputs": [
        {
          "name": "stdout",
          "output_type": "stream",
          "text": [
            "        1 \n",
            "       1 1 \n",
            "      1 2 1 \n",
            "     1 3 3 1 \n",
            "    1 4 6 4 1 \n",
            "   1 5 10 10 5 1 \n",
            "  1 6 15 20 15 6 1 \n",
            " 1 7 21 35 35 21 7 1 \n"
          ]
        }
      ],
      "source": [
        "def print_pascal_triangle(rows):\n",
        "    for i in range(rows):\n",
        "        coef = 1\n",
        "        for j in range(1, rows-i+1):\n",
        "            print(\" \", end=\"\")\n",
        "        \n",
        "        for j in range(0, i+1):\n",
        "            if j == 0 or i == 0:\n",
        "                coef = 1\n",
        "            else:\n",
        "                coef = coef*(i-j+1)//j\n",
        "            print(coef, end=\" \")\n",
        "        print()\n",
        "\n",
        "print_pascal_triangle(8)"
      ]
    },
    {
      "cell_type": "markdown",
      "id": "f797c81b-a92c-4b26-9ca5-33e5f52c6a46",
      "metadata": {
        "id": "f797c81b-a92c-4b26-9ca5-33e5f52c6a46"
      },
      "source": [
        "***"
      ]
    },
    {
      "cell_type": "markdown",
      "id": "1c6fd61e-1eff-499b-936c-25ebeecc244c",
      "metadata": {
        "id": "1c6fd61e-1eff-499b-936c-25ebeecc244c"
      },
      "source": [
        "### Questão 5\n",
        "1. Crie uma função que receba como entrada um número inteiro $N$ e retorna uma lista com os primeiros $N$ números de Fibonacci.\n",
        "2. A chamada [*lei de Benford*](https://pt.wikipedia.org/wiki/Lei_de_Benford) é uma lei baseada na observação sobre a frequência do primeiro dígito $d \\in \\{1,2,\\ldots,9\\}$ de uma determinada coleção de números (*data sets*). Segundo essa lei a distribuição logaritmica, portanto não-uniforme, dada por $$P(d) = \\log_{10} \\left( \\dfrac{d+1}{d} \\right),$$ ou seja, número começando com $1$ são mais frequentes que os começando com $2$, e assim em diante, com efeito temos aproximadamente\n",
        "\n",
        "| $d$ | $P(d)$ |\n",
        "|-----|--------|\n",
        "|1    | 0.301  |\n",
        "|2    | 0.176  |\n",
        "|3    | 0.125  |\n",
        "|4    | 0.097  |\n",
        "|5    | 0.079  |\n",
        "|6    | 0.067  |\n",
        "|7    | 0.058  |\n",
        "|8    | 0.051  |\n",
        "|9    | 0.046  |\n",
        "\n",
        "Usando a função criada no item anterior calcule a distribuição dos primeiros dígitos da sequência de Fibonacci para $N=500$ e $N=1000$, e avalie se ela segue a lei de Benford."
      ]
    },
    {
      "cell_type": "markdown",
      "id": "06cd00c4",
      "metadata": {},
      "source": [
        "#### Resposta"
      ]
    },
    {
      "cell_type": "code",
      "execution_count": 41,
      "id": "3a9efcc7",
      "metadata": {},
      "outputs": [],
      "source": [
        "def fibonacci(N:int) -> list:\n",
        "    \"\"\" Calcula os N primeiros números \n",
        "    da série de Fibonacci\n",
        "\n",
        "    Args:\n",
        "        N (int): quantidade de números da série\n",
        "\n",
        "    Returns:\n",
        "        list: N's números da série \n",
        "    \"\"\"\n",
        "    fibonacci = [0,1]\n",
        "    for k in range(0,N-2):\n",
        "        i = fibonacci[0+k]\n",
        "        j = fibonacci[1+k]\n",
        "        fibonacci.append(j+i)\n",
        "    return fibonacci"
      ]
    },
    {
      "cell_type": "code",
      "execution_count": 42,
      "id": "3c6ebe67",
      "metadata": {},
      "outputs": [],
      "source": [
        "def lei_benford(numeros:list):\n",
        "    \"\"\" Calcula a Lei de Benford para uma lista de números\n",
        "    Args:\n",
        "        numeros (list): lista que contem os números.\n",
        "        \n",
        "    Returns: lista com a frequência dos números de 1 a 9\n",
        "    \"\"\"\n",
        "    algarismo = []\n",
        "    contagem = {\"1\":0,\"2\":0,\"3\":0,\"4\":0,\"5\":0,\"6\":0,\"7\":0,\"8\":0,\"9\":0}\n",
        "    for i in range(len(numeros)):\n",
        "        algarismo [:] = str(numeros[i])\n",
        "        match algarismo[0]:\n",
        "            case \"1\":\n",
        "                contagem[\"1\"] +=1\n",
        "            case \"2\":\n",
        "                contagem[\"2\"] +=1\n",
        "            case \"3\":\n",
        "                contagem[\"3\"] +=1\n",
        "            case \"4\":\n",
        "                contagem[\"4\"] +=1\n",
        "            case \"5\":\n",
        "                contagem[\"5\"] +=1\n",
        "            case \"6\":\n",
        "                contagem[\"6\"] +=1\n",
        "            case \"7\":\n",
        "                contagem[\"7\"] +=1\n",
        "            case \"8\":\n",
        "                contagem[\"8\"] +=1\n",
        "            case \"9\":\n",
        "                contagem[\"9\"] +=1\n",
        "        frequencia = [contagem[str(k)] / len(numeros) for k in range(1,10)]\n",
        "    return frequencia"
      ]
    },
    {
      "cell_type": "markdown",
      "id": "dd469931",
      "metadata": {},
      "source": [
        "O código é um pouco verboso, porém acho ele de facil compreensão."
      ]
    },
    {
      "cell_type": "code",
      "execution_count": 43,
      "id": "937b5063",
      "metadata": {},
      "outputs": [
        {
          "name": "stdout",
          "output_type": "stream",
          "text": [
            "[0.3, 0.176, 0.126, 0.094, 0.08, 0.066, 0.058, 0.054, 0.044]\n",
            "[0.301, 0.177, 0.125, 0.095, 0.08, 0.067, 0.056, 0.053, 0.045]\n"
          ]
        }
      ],
      "source": [
        "print(lei_benford(fibonacci(500)))\n",
        "print(lei_benford(fibonacci(1000)))"
      ]
    },
    {
      "cell_type": "markdown",
      "id": "6d14525e",
      "metadata": {},
      "source": [
        "A paritir desses dados, é plausível concluir que a série de Fibonacci segue a lei de Benford\n"
      ]
    },
    {
      "cell_type": "markdown",
      "id": "c498c212-85dc-40df-894f-b3fa60f0024e",
      "metadata": {
        "id": "c498c212-85dc-40df-894f-b3fa60f0024e"
      },
      "source": [
        "***"
      ]
    },
    {
      "cell_type": "markdown",
      "id": "0b700d9a-a6db-48d6-a78e-1aed8bd8d805",
      "metadata": {
        "id": "0b700d9a-a6db-48d6-a78e-1aed8bd8d805"
      },
      "source": [
        "### Questão 6\n",
        "Escreva um loop usando `while` para calcular a [média aritmética-geometrica](https://en.wikipedia.org/wiki/Arithmetic%E2%80%93geometric_mean) (AGM) de dois números reais positivos, $x$ e $y$, definida como o limite das sequência:\n",
        "\n",
        "$$\n",
        "\\begin{align}\n",
        "a_{n+1} &= \\frac{1}{2} (a_n + g_n), \\\\\n",
        "g_{n+1} &= \\sqrt{a_n g_n},\n",
        "\\end{align}\n",
        "$$\n",
        "\n",
        "começando com $a_0 = x$ e $g_0 = y$. Ambas as sequências convergem para o mesmo número, denotado por $\\textrm{agm}(x,y)$. Use sua implementação para calcular a constante de *Gauss*, $G = 1/\\textrm{agm}(1,\\sqrt{2})$.\n",
        "\n",
        "**Importante:** Você terá que usar um critério de parada para iteração."
      ]
    },
    {
      "cell_type": "markdown",
      "id": "7cb4cb89-8222-4e73-afa1-223b38f64b41",
      "metadata": {
        "id": "7cb4cb89-8222-4e73-afa1-223b38f64b41"
      },
      "source": [
        "***"
      ]
    },
    {
      "cell_type": "markdown",
      "id": "a7f23841",
      "metadata": {},
      "source": [
        "#### Resposta"
      ]
    },
    {
      "cell_type": "code",
      "execution_count": null,
      "id": "6a0bc472",
      "metadata": {},
      "outputs": [],
      "source": [
        "from math import sqrt\n",
        "\n",
        "def AGM(x: float, y: float, err=1.e-16, intmax = 10):\n",
        "    \"\"\"Retorna a média aritmética-geométrica de dois números\n",
        "    reais positivos x e y definida como o limite das sequências\n",
        "\n",
        "    a(n+1) = 1/2*(a(n) + a(n)) \n",
        "    g(n+1) = sqrt(a(n) * g(n))\n",
        "    \n",
        "    Ambas as sequências convergem para o mesmo número\n",
        "\n",
        "    Args:\n",
        "        x (float): \n",
        "        y (float): \n",
        "        err (float, optional): erro relativo. Defaults to 1.e-16.\n",
        "        intmax (int, optional): número máximo de interações. Defaults to 100.\n",
        "\n",
        "    Returns:\n",
        "        tuple: ai, interacaoes\n",
        "    \"\"\"\n",
        "    a = x\n",
        "    g = y\n",
        "    ai = 1/2 * (x + y)          # Calcula o primeiro termo a1 \n",
        "    gi = sqrt(x * y)            # e g1 da série.\n",
        "    interacoes = 0\n",
        "    while err < ( abs((ai - a) / a) and abs((gi - g) / g) ) or interacoes == intmax:\n",
        "        a = ai\n",
        "        g = gi\n",
        "        gi = sqrt(a * g)\n",
        "        ai = 1/2 * (a + g)\n",
        "        interacoes += 1\n",
        "    return ai, interacoes\n"
      ]
    },
    {
      "cell_type": "code",
      "execution_count": null,
      "id": "f1373556",
      "metadata": {},
      "outputs": [],
      "source": [
        "from math import sqrt\n",
        "x = 1\n",
        "y = sqrt(2)\n",
        "agm = AGM(x,y,)\n",
        "\n",
        "print(f\"A média aritmética geométrica de {x} e {y} é {agm[0]} com {agm[1]} interações\")\n",
        "\n"
      ]
    },
    {
      "cell_type": "code",
      "execution_count": null,
      "id": "83c09e51",
      "metadata": {},
      "outputs": [],
      "source": [
        "G = 1 / agm[0]\n",
        "print(f\"A constante de Gauss é {G = } \")\n"
      ]
    }
  ],
  "metadata": {
    "colab": {
      "provenance": []
    },
    "kernelspec": {
      "display_name": "Python 3 (ipykernel)",
      "language": "python",
      "name": "python3"
    },
    "language_info": {
      "codemirror_mode": {
        "name": "ipython",
        "version": 3
      },
      "file_extension": ".py",
      "mimetype": "text/x-python",
      "name": "python",
      "nbconvert_exporter": "python",
      "pygments_lexer": "ipython3",
      "version": "3.10.12"
    }
  },
  "nbformat": 4,
  "nbformat_minor": 5
}
